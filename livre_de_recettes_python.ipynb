{
 "cells": [
  {
   "cell_type": "markdown",
   "metadata": {},
   "source": [
    "# Python et l'analyse de données spatiales\n",
    "## livre de recettes pour exploiter des données géographiques avec Python\n",
    "### version du 15 octobre 2018"
   ]
  },
  {
   "cell_type": "markdown",
   "metadata": {},
   "source": [
    "### installation et chargement des librairies\n",
    "\n",
    "La distribution Anaconda dispose de 150 librairies (packages) pour les data sciences déjà installés, et propose 250 packages additionnels\n",
    "qui peuvent être facilement installés avec la commande 'conda install'\n",
    "\n",
    "Nous utiliserons les packages suivants :\n",
    "* Packages déjà installés avec la distribution Anaconda\n",
    "    * pandas : structuration et manipulation de données sous forme de 'data frames'\n",
    "    * matplotlib : graphiques\n",
    "    * numpy : calcul scientifiques, tableaux multi dimensionnels\n",
    "    * scikit-learn : analyses statistiques multivariées, apprentissage statistique\n",
    "* Packages additionnels à installer :\n",
    "    * psycopg2 : connexion à une base de données postgreSQL\n",
    "    * geopandas : manipulation de données géographiques sous forme de data frames\n",
    "    * osgeo : geotraitements avancés\n",
    "    * folium : cartographie dynamique\n",
    "        \n",
    "Pour installer ces packages, exécuter dans le prompt d'Anaconda la commande `conda install nom_du_package`\n",
    "\n",
    "**si cette commande ne marche pas**\n",
    "\n",
    "C'est probablement un problème de proxy\n",
    "\n",
    "Pour utiliser une installation avec conda, il faut d'abord rajouter dans le répertoire où est installé Anaconda un fichier .condarc permettant d'indiquer le proxy\n",
    "\n",
    "Générer ce fichier avec le bloc notes, son contenu doit être :\n",
    "\n",
    "    proxy_servers:\n",
    "        http: http://direct.proxy.i2:8080\n",
    "        https: https://direct.proxy.i2:8080\n",
    "\n",
    "Une fois fait, lancer dans le prompt d'Anaconda la commande : `conda install nom_du_package`"
   ]
  },
  {
   "cell_type": "markdown",
   "metadata": {},
   "source": [
    "### documentation et tutoriels sur ces librairies\n",
    "* introduction à **pandas** : http://www.python-simple.com/python-pandas/panda-intro.php\n",
    "* introduction à **matplotlib** : http://www.python-simple.com/python-matplotlib/graphes-multiples.php\n",
    "* introduction à **numpy** : http://www.python-simple.com/python-numpy-scipy/creation-numpy.php\n",
    "* géotraitements avec **gdal / ogr** (anglais) : https://www.gis.usu.edu/~chrisg/python/2009/\n",
    "* cookbook **gdal / ogr** (anglais) : https://pcjericks.github.io/py-gdalogr-cookbook/index.html\n",
    "* introduction à **scikit-learn** : https://makina-corpus.com/blog/metier/2017/initiation-au-machine-learning-avec-python-pratique\n",
    "* documentation **geopandas** (anglais) : http://geopandas.org/\n",
    "* documentation **folium** (anglais) : https://python-visualization.github.io/folium/index.html\n"
   ]
  },
  {
   "cell_type": "code",
   "execution_count": null,
   "metadata": {},
   "outputs": [],
   "source": [
    "# chargement des packages\n",
    "import psycopg2\n",
    "import pandas as pd\n",
    "import geopandas as gpd\n",
    "import matplotlib as mp\n",
    "import numpy as np\n",
    "import matplotlib.pyplot as plt\n",
    "import sklearn as skl\n",
    "from osgeo import gdal\n",
    "import folium\n",
    "from folium.plugins import MarkerCluster"
   ]
  },
  {
   "cell_type": "markdown",
   "metadata": {},
   "source": [
    "### connexion à une base de données PostgreSQL et lecture de tables"
   ]
  },
  {
   "cell_type": "code",
   "execution_count": null,
   "metadata": {},
   "outputs": [],
   "source": [
    "# connexion à la base de données Ceremabase\n",
    "dbcon = psycopg2.connect('host=172.20.52.153 port=5444 dbname=ceremabase user=consultation password=consultation')"
   ]
  },
  {
   "cell_type": "code",
   "execution_count": null,
   "metadata": {},
   "outputs": [],
   "source": [
    "# lecture d'une table non géographique et copie dans un dataframe\n",
    "data = pd.read_sql('SELECT * FROM w_gt.ressec4', con=dbcon) \n",
    "\n",
    "# cette table a un champ géographique mais avec Pandas il ne sera pas interprété comme une géométrie mais comme du texte"
   ]
  },
  {
   "cell_type": "code",
   "execution_count": null,
   "metadata": {},
   "outputs": [],
   "source": [
    "# lecture d'une table géographique et copie dans un geodataframe\n",
    "comgeo = gpd.read_postgis(\"SELECT * FROM r_admin_express.n_adm_exp_commune_000_2018 WHERE insee_dep LIKE '38'\", con = dbcon, geom_col = 'geom')\n",
    "datageo = gpd.read_postgis(\"SELECT * FROM e_ffonciers_2016.d38_2016_pb0010_local WHERE idcom LIKE '38193'\", con=dbcon, geom_col = 'geomloc') \n",
    "\n",
    "# avec Geopandas, la colonne geom sera interprétée comme une géométrie"
   ]
  },
  {
   "cell_type": "code",
   "execution_count": null,
   "metadata": {},
   "outputs": [],
   "source": [
    "# fermeture de la connexion\n",
    "dbcon.close()"
   ]
  },
  {
   "cell_type": "code",
   "execution_count": null,
   "metadata": {},
   "outputs": [],
   "source": [
    "# affichage des premières lignes d'un dataframe\n",
    "data.head()"
   ]
  },
  {
   "cell_type": "code",
   "execution_count": null,
   "metadata": {},
   "outputs": [],
   "source": [
    "# description statistique des variables du dataframe\n",
    "# pour toutes les variables numériques du dataframe, renvoie nombre, moyenne, min, max, quartiles\n",
    "datageo.describe()"
   ]
  },
  {
   "cell_type": "markdown",
   "metadata": {},
   "source": [
    "### lecture d'un shapefile, lecture d'un raster"
   ]
  },
  {
   "cell_type": "code",
   "execution_count": null,
   "metadata": {},
   "outputs": [],
   "source": [
    "# lecture d'un fichier shapefile\n",
    "bati38 = gpd.GeoDataFrame.from_file('//CT69-SIGI/ref/BDTOPO/E_BATI/N_BATI_INDIFFERENCIE_BDT_038.SHP')"
   ]
  },
  {
   "cell_type": "code",
   "execution_count": null,
   "metadata": {},
   "outputs": [],
   "source": [
    "# lecture d'un fichier raster\n",
    "bdortho = gdal.Open('//CT69-SIGI/ref/BDORTHO/2015/D038-HR-ED15/38-2015-0895-6490-LA93-0M20-E080.jp2')"
   ]
  },
  {
   "cell_type": "code",
   "execution_count": null,
   "metadata": {},
   "outputs": [],
   "source": [
    "# affichage des caractéristiques du raster\n",
    "gt = bdortho.GetGeoTransform()\n",
    "print(bdortho.GetMetadata()) # résolution du raster\n",
    "print(bdortho.RasterXSize)   # taille X\n",
    "print(bdortho.RasterYSize)   # taille Y\n",
    "print(bdortho.RasterCount)   # nombre de bandes\n",
    "print(gt)                    # coordonnées du point en haut à droite, résolution selon X et Y"
   ]
  },
  {
   "cell_type": "code",
   "execution_count": null,
   "metadata": {},
   "outputs": [],
   "source": [
    "# affichage du raster\n",
    "\n",
    "xmin, ymin, dx, dy = 0, 0, 200, 100 # définit le rectangle de pixels à afficher\n",
    "datar = np.zeros((dy, dx, bdortho.RasterCount), dtype = 'uint8') # initialise un tableau numpy\n",
    "for b in range(bdortho.RasterCount): # on boucle sur le nombre de bandes \n",
    "    bande = bdortho.GetRasterBand(b+1) # on extrait la bande b\n",
    "    databande = bande.ReadAsArray(xmin, ymin, dx, dy) # copie la bande dans un tableau numpy à la taille du raster\n",
    "    datar[:,:,b] = databande\n",
    "plt.imshow(datar)"
   ]
  },
  {
   "cell_type": "markdown",
   "metadata": {},
   "source": [
    "### création de graphiques avec Matplotlib"
   ]
  },
  {
   "cell_type": "code",
   "execution_count": null,
   "metadata": {},
   "outputs": [],
   "source": [
    "# courbe\n",
    "plt.plot(data.stoth[0:10]) # en se limitant au 10 premières lignes du dataframe (en Python l'indexation commence à zéro !)"
   ]
  },
  {
   "cell_type": "code",
   "execution_count": null,
   "metadata": {},
   "outputs": [],
   "source": [
    "# nuages de points\n",
    "plt.plot(data.stoth, data.spevtot, linestyle = 'none', marker ='o')\n",
    "plt.xlabel('surface habitable')\n",
    "plt.ylabel('surface totale')"
   ]
  },
  {
   "cell_type": "code",
   "execution_count": null,
   "metadata": {},
   "outputs": [],
   "source": [
    "# graphique en barres (bar plot)\n",
    "score = [29,11,20,10,330,213]\n",
    "etiquettes = ['A', 'B', 'C', 'D', 'E', 'F']\n",
    "plt.bar(range(len(score)), score) # ou plt.barh si on veut que les barres soient horizontales\n",
    "plt.xticks([r for r in range(len(score))], etiquettes)"
   ]
  },
  {
   "cell_type": "code",
   "execution_count": null,
   "metadata": {},
   "outputs": [],
   "source": [
    "# pour faire varier la largeur des barres proportionnellement à une 2e variable\n",
    "largeur = [47,32,60,10,354,288] # largeur de chaque barre\n",
    "espace = 10 # espacement entre les barres\n",
    "position = [sum(largeur[0:i+1]) - largeur[i]/2 + i*espace for i in range(len(largeur))] # calcul de la position du centre de chaque barre\n",
    "pourcentage = np.array(score) / np.array(largeur)\n",
    "print(pourcentage)\n",
    "plt.figure(figsize = (8,4))\n",
    "plt.bar(position, score, width = largeur)\n",
    "plt.xticks(position, etiquettes)"
   ]
  },
  {
   "cell_type": "code",
   "execution_count": null,
   "metadata": {},
   "outputs": [],
   "source": [
    "# histogramme basique\n",
    "plt.hist(data.jannath)"
   ]
  },
  {
   "cell_type": "code",
   "execution_count": null,
   "metadata": {},
   "outputs": [],
   "source": [
    "# mise en forme de l'histogramme\n",
    "plt.figure(figsize = (8,4)) # définit les dimensions du graphique\n",
    "plt.hist(data.jannath[data.jannath > 1900], range = (1900, 2015), bins = 23, rwidth = 0.9, color = 'steelblue')\n",
    "# on restreint la série de données à la condition jannath > 1900\n",
    "# range : intervalle de l'axe des abscisses\n",
    "# bins : nombre de classes dans cet intervalle\n",
    "# rwidth : largeur des barres\n",
    "# liste des couleurs disponibles sous matplotlib : http://www.python-simple.com/python-matplotlib/couleurs-matplotlib.php\n",
    "plt.title('Titre du graphique')\n",
    "plt.xlabel('Année')\n",
    "plt.ylabel('Nombre')"
   ]
  },
  {
   "cell_type": "code",
   "execution_count": null,
   "metadata": {},
   "outputs": [],
   "source": [
    "# camembert (pie plot)\n",
    "d = data.groupby('locproptxt').size() # permet de compter le nombre de lignes pour chaque modalité du champ pivot\n",
    "plt.figure(figsize = (12,4))\n",
    "plt.axis('equal') # garantit que le camembert soit rond !\n",
    "plt.pie(d, labeldistance = 0.5, autopct='%1.0f%%') # rajoute des étiquettes en pourcentage\n",
    "plt.pie(d, labels = d.index, shadow = True) # dessine le camembert avec en étiquette les modalités\n",
    "plt.legend(loc= 'upper left') # ajoute une légende"
   ]
  },
  {
   "cell_type": "code",
   "execution_count": null,
   "metadata": {},
   "outputs": [],
   "source": [
    "# graphes multiples\n",
    "fig = plt.figure(figsize=(12, 6))\n",
    "\n",
    "ax = fig.add_subplot(1,2,1) # divise la figure horizontalement en 2 fenêtres (ax) et ouvre la fenetre 1\n",
    "ax.hist(data.anneenaiss1[data.dqualp1=='MME'], range =(1900, 2000), bins = 20, rwidth = 0.9, orientation = 'horizontal', color ='pink')\n",
    "plt.gca().invert_xaxis() # inversion de l'axe des x\n",
    "plt.gca().invert_yaxis() # inversion de l'axe des y\n",
    "ax.set_ylabel('annee de naissance')\n",
    "ax.set_xlabel('nombre')\n",
    "ax.set_title('femmes')\n",
    "\n",
    "ax = fig.add_subplot(1,2,2) # ouvre la fenetre 2\n",
    "ax.hist(data.anneenaiss1[data.dqualp1=='M'], range =(1900, 2000), bins = 20, rwidth = 0.9, orientation = 'horizontal', color ='steelblue')\n",
    "plt.gca().invert_yaxis()\n",
    "ax.set_ylabel('annee de naissance')\n",
    "ax.set_xlabel('nombre')\n",
    "ax.set_title('hommes')\n",
    "ax.yaxis.set_label_position('right') # place le titre de l'axe y à droite\n",
    "ax.yaxis.set_ticks_position('right') # place les graduations de l'axe y à droite"
   ]
  },
  {
   "cell_type": "code",
   "execution_count": null,
   "metadata": {},
   "outputs": [],
   "source": [
    "# sauvegarde du graphique dans un fichier\n",
    "\n",
    "plt.hist(data.jannath)\n",
    "plt.savefig('image.png', dpi = 600, transparent = True)\n",
    "# dpi fixe la résolution\n",
    "# transparent = fond transparent\n",
    "plt.close()\n",
    "\n",
    "# on peut opter pour un autre format :    plt.savefig('image', format = 'pdf')"
   ]
  },
  {
   "cell_type": "markdown",
   "metadata": {},
   "source": [
    "### création de cartes avec Geopandas"
   ]
  },
  {
   "cell_type": "code",
   "execution_count": null,
   "metadata": {},
   "outputs": [],
   "source": [
    "# premières cartes basiques\n",
    "\n",
    "comgeo.plot() # avec une géométrie polygon\n",
    "datageo.plot(color='red', markersize=0.1) # ça marche pareil avec une couche de points"
   ]
  },
  {
   "cell_type": "code",
   "execution_count": null,
   "metadata": {},
   "outputs": [],
   "source": [
    "# superposition de plusieurs couches\n",
    "fig, ax = plt.subplots(figsize=(6, 6))\n",
    "plt.axis('equal')\n",
    "[xmin, ymin, xmax, ymax] = datageo.total_bounds # récupère les coordonnées limites de la couche datageo\n",
    "marge = 1000\n",
    "ax.set_xlim(xmin - marge, xmax + marge) # définit les limites de la carte en prenant une marge\n",
    "ax.set_ylim(ymin - marge, ymax + marge)\n",
    "comgeo.plot(ax=ax, color ='white', edgecolor ='black')\n",
    "datageo.plot(ax=ax, color='red', markersize=0.1) # le plot se fait sur le même ax ce qui garantit la superposition des couches\n",
    "comgeo.centroid.plot(ax=ax)\n"
   ]
  },
  {
   "cell_type": "code",
   "execution_count": null,
   "metadata": {},
   "outputs": [],
   "source": [
    "# analyse thématique\n",
    "fig = plt.figure(figsize=(16, 6))\n",
    "\n",
    "ax = fig.add_subplot(1,2,1)\n",
    "plt.axis('equal')\n",
    "datageo[datageo.jannath > 1950].plot(ax=ax, column='jannath', legend = True, cmap = mp.cm.coolwarm, markersize=0.2)\n",
    "# applique un style gradué selon la variable numérique jannath\n",
    "# pour trouver la palette de couleurs adaptée, voir https://matplotlib.org/users/colormaps.html\n",
    "ax.set_title(\"année de construction\")\n",
    "ax.xaxis.set_visible(False) # supprime l'affichage des étiquettes de l'axe x\n",
    "ax.yaxis.set_visible(False) # supprime l'affichage des étiquettes de l'axe y\n",
    "\n",
    "ax = fig.add_subplot(1,2,2)\n",
    "plt.axis('equal')\n",
    "datageo.plot(ax=ax, column='dteloctxt', legend = True, cmap = mp.cm.Set1, markersize=0.2)\n",
    "# applique un style catégorisé selon la variable dteloctxt\n",
    "ax.set_title(\"type de local\")\n",
    "ax.xaxis.set_visible(False)\n",
    "ax.yaxis.set_visible(False)\n"
   ]
  },
  {
   "cell_type": "code",
   "execution_count": null,
   "metadata": {},
   "outputs": [],
   "source": [
    "# personnalisation de la barre de légende (colorbar)\n",
    "fig = plt.figure(figsize=(16, 6))\n",
    "\n",
    "# pour fixer manuellement les bornes min et max, utiliser les paramètres vmin et vmax\n",
    "ax = fig.add_subplot(1,2,1)\n",
    "datageo.plot(ax=ax, column='jannath', legend = True, vmin = 1960, vmax = 2010, cmap = mp.cm.coolwarm, markersize=0.2)\n",
    "\n",
    "# pour personnaliser davantage la barre, il faut définir une colorbar manuellement\n",
    "ax = fig.add_subplot(1,2,2)\n",
    "vmin = 1960\n",
    "vmax = 2010\n",
    "datageo.plot(ax=ax, column='jannath', cmap = mp.cm.coolwarm, markersize=0.2, vmin = vmin, vmax = vmax) # par défaut legend = False\n",
    "\n",
    "cax = fig.add_axes([0.5, 0.03, 0.4, 0.03]) # xmin, ymin, delta_x, delta_y\n",
    "sm = plt.cm.ScalarMappable(cmap= mp.cm.coolwarm, norm=plt.Normalize(vmin=vmin, vmax=vmax))\n",
    "sm._A = []\n",
    "cb = fig.colorbar(sm, cax=cax, orientation = 'horizontal', ticks = [1960, 1980, 1990, 2000])\n"
   ]
  },
  {
   "cell_type": "code",
   "execution_count": null,
   "metadata": {},
   "outputs": [],
   "source": [
    "# sélection par géométrie\n",
    "fig, ax = plt.subplots(figsize=(6, 6))\n",
    "comIdA = comgeo[comgeo.insee_com == '38193'] # on sélectionne la commune de l'Isle d'Abeau par slicing\n",
    "comIdA.plot(ax=ax, color ='white', edgecolor ='black')\n",
    "batiIdA = bati38.cx[870000:876000, 6502000:6506000] # permet de sélectionner les objets situés dans une \"bounding box\"\n",
    "batiIdA = gpd.overlay(batiIdA, comIdA, how ='intersection') # équivalent à un SELECT ... WHERE ST_Intersects ...\n",
    "batiIdA.plot(ax=ax, color = 'blue')"
   ]
  },
  {
   "cell_type": "code",
   "execution_count": null,
   "metadata": {},
   "outputs": [],
   "source": [
    "# tampons\n",
    "fig, ax = plt.subplots(figsize=(6, 6))\n",
    "comIdA.plot(ax=ax, color ='white', edgecolor ='black')\n",
    "tache = batiIdA.buffer(40) # tampon autour de chaque polygone\n",
    "tache = tache.unary_union  # agrège en un seul multipolygone\n",
    "tache = tache.buffer(-25)  # tampon négatif\n",
    "gpd.plotting.plot_polygon_collection(ax=ax, geoms = tache) # on utilise la méthode plot_polygon_collection pour dessiner un multipolygone"
   ]
  },
  {
   "cell_type": "markdown",
   "metadata": {},
   "source": [
    "### cartographie dynamique avec Folium"
   ]
  },
  {
   "cell_type": "code",
   "execution_count": null,
   "metadata": {},
   "outputs": [],
   "source": [
    "# création d'un fond de carte\n",
    "ma_carte = folium.Map(location=[45.6, 5.25], zoom_start = 10)"
   ]
  },
  {
   "cell_type": "code",
   "execution_count": null,
   "metadata": {},
   "outputs": [],
   "source": [
    "# affichage de la carte\n",
    "ma_carte"
   ]
  },
  {
   "cell_type": "code",
   "execution_count": null,
   "metadata": {},
   "outputs": [],
   "source": [
    "# sauvegarde de la carte en html\n",
    "ma_carte.save('ma_carte.html') # la carte est enregistrée dans le répertoire où se trouve ce notebook"
   ]
  },
  {
   "cell_type": "code",
   "execution_count": null,
   "metadata": {},
   "outputs": [],
   "source": [
    "# pour rajouter une couche vectorielle, il faut d'abord reprojeter le geodataframe en long / lat\n",
    "comgeo.crs = {'init' :'epsg:2154'} # définit la projection courante du geodataframe comgeo (lambert 93)\n",
    "com4326 = comgeo.to_crs(epsg='4326') # reprojection en long / lat"
   ]
  },
  {
   "cell_type": "code",
   "execution_count": null,
   "metadata": {},
   "outputs": [],
   "source": [
    "# ajout d'une couche vectorielle à la carte \n",
    "# (dans cet exemple ce sont des polygones, sans remplissage et avec une bordure orange)\n",
    "\n",
    "folium.GeoJson(com4326, name='communes', style_function = lambda x: {'fillColor' : None, 'fillOpacity' : 0, 'color' : 'orange'}).add_to(ma_carte)"
   ]
  },
  {
   "cell_type": "code",
   "execution_count": null,
   "metadata": {},
   "outputs": [],
   "source": [
    "# carte chloroplèthe à partir d'un geodataframe\n",
    "# la méthode chloropleth() permet de réaliser une carte chloroplèthe dynamique, elle est plutôt conçue pour utiliser \n",
    "# des fichers json, mais fonctionne aussi si les données sont contenues dans un geodataframe\n",
    "\n",
    "ma_carte.choropleth(\n",
    "    geo_data=com4326,\n",
    "    name='choroplèthe',\n",
    "    data=com4326,\n",
    "    columns=['id', 'population'], # le 1er champ est une clé, le 2e celui à partir duquel seront colorés les objets\n",
    "    key_on='feature.properties.id',\n",
    "    fill_color='YlGn',\n",
    "    fill_opacity=0.7,\n",
    "    line_opacity=0.2,\n",
    "    threshold_scale = [0,100,1000,5000,20000,1000000], # permet si on le souhaite d'indiquer les limites des classes\n",
    "    legend_name='population par commune'\n",
    ")"
   ]
  },
  {
   "cell_type": "code",
   "execution_count": null,
   "metadata": {},
   "outputs": [],
   "source": [
    "# on peut aussi rajouter à la carte des objets ponctuels sous forme de markers\n",
    "datageo.crs = {'init' :'epsg:2154'}\n",
    "bati4326 = datageo[0:100].to_crs(epsg='4326') # on se limite volontairement à 100 bâtiments pour cet exemple\n"
   ]
  },
  {
   "cell_type": "code",
   "execution_count": null,
   "metadata": {},
   "outputs": [],
   "source": [
    "# ajout de markers pour représenter des objects ponctuels\n",
    "\n",
    "for row in bati4326.itertuples():\n",
    "    folium.Marker(location = [row.geomloc.y, row.geomloc.x], popup = f\"{row.dteloctxt} - {row.jannath} - {row.stoth} m2 hab.\").add_to(ma_carte)\n",
    "\n",
    "# une fenêtre popup s'ouvrira en cliquant sur le marker\n",
    "# attention à ne pas vouloir afficher trop de markers sinon c'est très long (et illisible !)"
   ]
  },
  {
   "cell_type": "markdown",
   "metadata": {},
   "source": [
    "** attention ** lorsque le texte du popup contient des caractères `' \"` ou `& `\n",
    "\n",
    "il faut utiliser une syntaxe du type `popup = folium.Popup(\"mon_texte\", parse_html = True)`\n",
    "sinon la carte ne s'affiche pas"
   ]
  },
  {
   "cell_type": "code",
   "execution_count": null,
   "metadata": {},
   "outputs": [],
   "source": [
    "# groupage des markers (marker clusters)\n",
    "\n",
    "mc = MarkerCluster()\n",
    "\n",
    "for row in bati4326.itertuples():\n",
    "    mc.add_child(folium.Marker(location = [row.geomloc.y, row.geomloc.x], popup = f\"{row.dteloctxt} - {row.jannath} - {row.stoth} m2 hab.\"))\n",
    "ma_carte.add_child(mc)"
   ]
  },
  {
   "cell_type": "code",
   "execution_count": null,
   "metadata": {},
   "outputs": [],
   "source": [
    "# ajout à la carte d'un contrôle d'affichage des couches\n",
    "\n",
    "folium.LayerControl().add_to(ma_carte)"
   ]
  }
 ],
 "metadata": {
  "kernelspec": {
   "display_name": "Python 3",
   "language": "python",
   "name": "python3"
  },
  "language_info": {
   "codemirror_mode": {
    "name": "ipython",
    "version": 3
   },
   "file_extension": ".py",
   "mimetype": "text/x-python",
   "name": "python",
   "nbconvert_exporter": "python",
   "pygments_lexer": "ipython3",
   "version": "3.6.5"
  }
 },
 "nbformat": 4,
 "nbformat_minor": 2
}
